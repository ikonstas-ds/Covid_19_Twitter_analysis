{
  "nbformat": 4,
  "nbformat_minor": 0,
  "metadata": {
    "colab": {
      "name": "explore_part1.ipynb",
      "provenance": [],
      "collapsed_sections": []
    },
    "kernelspec": {
      "display_name": "Python 3",
      "language": "python",
      "name": "python3"
    },
    "language_info": {
      "codemirror_mode": {
        "name": "ipython",
        "version": 3
      },
      "file_extension": ".py",
      "mimetype": "text/x-python",
      "name": "python",
      "nbconvert_exporter": "python",
      "pygments_lexer": "ipython3",
      "version": "3.6.8"
    }
  },
  "cells": [
    {
      "cell_type": "code",
      "metadata": {
        "colab_type": "code",
        "id": "SKMjSbaACzn8",
        "colab": {
          "base_uri": "https://localhost:8080/",
          "height": 54
        },
        "outputId": "86b0b1a6-4fc5-4deb-c0c8-68c5db306c59"
      },
      "source": [
        "from google.colab import drive\n",
        "drive.mount('/content/drive/')\n",
        "!ls\n",
        "\n",
        "# change working directory\n",
        "import os\n",
        "# %cd ../\n",
        "os.chdir(\"drive/My Drive/Covid-19\")"
      ],
      "execution_count": 1,
      "outputs": [
        {
          "output_type": "stream",
          "text": [
            "Drive already mounted at /content/drive/; to attempt to forcibly remount, call drive.mount(\"/content/drive/\", force_remount=True).\n",
            "drive  sample_data\n"
          ],
          "name": "stdout"
        }
      ]
    },
    {
      "cell_type": "code",
      "metadata": {
        "colab_type": "code",
        "id": "uWgeQ3dIEfzZ",
        "colab": {}
      },
      "source": [
        "from os import listdir\n",
        "from os.path import isfile, join\n",
        "import re\n",
        "import pandas as pd\n",
        "from tqdm import tqdm\n"
      ],
      "execution_count": 0,
      "outputs": []
    },
    {
      "cell_type": "code",
      "metadata": {
        "colab_type": "code",
        "id": "ZWAEujxBEZ84",
        "colab": {}
      },
      "source": [
        "# TODO change the folder name\n",
        "mypath = 'tweets part1'\n",
        "onlyfiles = [f for f in listdir(mypath) if isfile(join(mypath, f))]\n",
        "\n",
        "savepath = 'covid-final-dataset-2.csv.gz'\n",
        "for i, filepath in tqdm(enumerate(onlyfiles)):\n",
        "    # TODO sort values based on date and time\n",
        "    df = pd.read_csv(mypath + '/' + filepath)\n",
        "    # TODO remove it\n",
        "\n",
        "    if i == 0:\n",
        "        df.to_csv(savepath, index=False, compression='gzip', mode='w')\n",
        "    else:\n",
        "        df.to_csv(savepath, index=False, compression='gzip', mode='a', header=False)\n",
        "\n",
        "df = pd.read_csv(savepath, compression='gzip')\n",
        "df = df[df['lang'] == 'en']\n",
        "df[['replies', 'retweets', 'likes']] = df[['replies', 'retweets', 'likes']].astype(int)\n",
        "df.date = pd.to_datetime(df.date)\n",
        "df.to_csv(savepath, index=False, compression='gzip')"
      ],
      "execution_count": 0,
      "outputs": []
    },
    {
      "cell_type": "code",
      "metadata": {
        "id": "EPyvKFkaXWIM",
        "colab_type": "code",
        "colab": {
          "base_uri": "https://localhost:8080/",
          "height": 329
        },
        "outputId": "aad6c0d2-3100-4e00-deab-71b30be5df08"
      },
      "source": [
        "df.info()"
      ],
      "execution_count": 21,
      "outputs": [
        {
          "output_type": "stream",
          "text": [
            "<class 'pandas.core.frame.DataFrame'>\n",
            "Int64Index: 488155 entries, 4 to 1071182\n",
            "Data columns (total 10 columns):\n",
            " #   Column       Non-Null Count   Dtype         \n",
            "---  ------       --------------   -----         \n",
            " 0   tweet_id     488155 non-null  object        \n",
            " 1   date         488155 non-null  datetime64[ns]\n",
            " 2   time         488155 non-null  object        \n",
            " 3   text         488155 non-null  object        \n",
            " 4   lang         488155 non-null  object        \n",
            " 5   location_id  48986 non-null   object        \n",
            " 6   location     369125 non-null  object        \n",
            " 7   replies      488155 non-null  int64         \n",
            " 8   retweets     488155 non-null  int64         \n",
            " 9   likes        488155 non-null  int64         \n",
            "dtypes: datetime64[ns](1), int64(3), object(6)\n",
            "memory usage: 41.0+ MB\n"
          ],
          "name": "stdout"
        }
      ]
    },
    {
      "cell_type": "code",
      "metadata": {
        "id": "T_0tlOtAXSZZ",
        "colab_type": "code",
        "colab": {
          "base_uri": "https://localhost:8080/",
          "height": 112
        },
        "outputId": "4ddcddc8-f3dc-46e0-daff-502ff47694c0"
      },
      "source": [
        "df.head(2)"
      ],
      "execution_count": 22,
      "outputs": [
        {
          "output_type": "execute_result",
          "data": {
            "text/html": [
              "<div>\n",
              "<style scoped>\n",
              "    .dataframe tbody tr th:only-of-type {\n",
              "        vertical-align: middle;\n",
              "    }\n",
              "\n",
              "    .dataframe tbody tr th {\n",
              "        vertical-align: top;\n",
              "    }\n",
              "\n",
              "    .dataframe thead th {\n",
              "        text-align: right;\n",
              "    }\n",
              "</style>\n",
              "<table border=\"1\" class=\"dataframe\">\n",
              "  <thead>\n",
              "    <tr style=\"text-align: right;\">\n",
              "      <th></th>\n",
              "      <th>tweet_id</th>\n",
              "      <th>date</th>\n",
              "      <th>time</th>\n",
              "      <th>text</th>\n",
              "      <th>lang</th>\n",
              "      <th>location_id</th>\n",
              "      <th>location</th>\n",
              "      <th>replies</th>\n",
              "      <th>retweets</th>\n",
              "      <th>likes</th>\n",
              "    </tr>\n",
              "  </thead>\n",
              "  <tbody>\n",
              "    <tr>\n",
              "      <th>4</th>\n",
              "      <td>1238594752615858176</td>\n",
              "      <td>2020-03-13</td>\n",
              "      <td>22:36:15</td>\n",
              "      <td>No one cares Nancy...you filled your bill w/Po...</td>\n",
              "      <td>en</td>\n",
              "      <td>NaN</td>\n",
              "      <td>NaN</td>\n",
              "      <td>1</td>\n",
              "      <td>1</td>\n",
              "      <td>2</td>\n",
              "    </tr>\n",
              "    <tr>\n",
              "      <th>6</th>\n",
              "      <td>1238613509828743168</td>\n",
              "      <td>2020-03-13</td>\n",
              "      <td>23:50:47</td>\n",
              "      <td>Due to the Coronavirus\\nA lot of us artists wh...</td>\n",
              "      <td>en</td>\n",
              "      <td>NaN</td>\n",
              "      <td>NaN</td>\n",
              "      <td>0</td>\n",
              "      <td>0</td>\n",
              "      <td>0</td>\n",
              "    </tr>\n",
              "  </tbody>\n",
              "</table>\n",
              "</div>"
            ],
            "text/plain": [
              "              tweet_id       date      time  ... replies retweets likes\n",
              "4  1238594752615858176 2020-03-13  22:36:15  ...       1        1     2\n",
              "6  1238613509828743168 2020-03-13  23:50:47  ...       0        0     0\n",
              "\n",
              "[2 rows x 10 columns]"
            ]
          },
          "metadata": {
            "tags": []
          },
          "execution_count": 22
        }
      ]
    },
    {
      "cell_type": "code",
      "metadata": {
        "id": "rNS3RbJnXUVI",
        "colab_type": "code",
        "outputId": "dda233ae-5991-4f6a-e956-7154f7bb8953",
        "colab": {
          "base_uri": "https://localhost:8080/",
          "height": 219
        }
      },
      "source": [
        "df.count()"
      ],
      "execution_count": 23,
      "outputs": [
        {
          "output_type": "execute_result",
          "data": {
            "text/plain": [
              "tweet_id       488155\n",
              "date           488155\n",
              "time           488155\n",
              "text           488155\n",
              "lang           488155\n",
              "location_id     48986\n",
              "location       369125\n",
              "replies        488155\n",
              "retweets       488155\n",
              "likes          488155\n",
              "dtype: int64"
            ]
          },
          "metadata": {
            "tags": []
          },
          "execution_count": 23
        }
      ]
    },
    {
      "cell_type": "code",
      "metadata": {
        "id": "D3lezQgOXeC5",
        "colab_type": "code",
        "colab": {}
      },
      "source": [
        "# q = df.groupby('lang').agg('count')\n",
        "# q.to_csv('lang.csv')\n"
      ],
      "execution_count": 0,
      "outputs": []
    },
    {
      "cell_type": "code",
      "metadata": {
        "id": "cLrcEFh0Y09V",
        "colab_type": "code",
        "outputId": "d70d6cc4-7e95-4395-c448-a8c0b7e0d848",
        "colab": {
          "base_uri": "https://localhost:8080/",
          "height": 35
        }
      },
      "source": [
        "df.location_id.unique().shape[0]"
      ],
      "execution_count": 16,
      "outputs": [
        {
          "output_type": "execute_result",
          "data": {
            "text/plain": [
              "5688"
            ]
          },
          "metadata": {
            "tags": []
          },
          "execution_count": 16
        }
      ]
    }
  ]
}