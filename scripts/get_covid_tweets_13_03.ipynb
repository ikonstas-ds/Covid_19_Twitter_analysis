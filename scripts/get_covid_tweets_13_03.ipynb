{
  "nbformat": 4,
  "nbformat_minor": 0,
  "metadata": {
    "colab": {
      "name": "get_covid_tweets_13-03.ipynb",
      "provenance": [],
      "collapsed_sections": []
    },
    "kernelspec": {
      "display_name": "Python 3",
      "language": "python",
      "name": "python3"
    },
    "language_info": {
      "codemirror_mode": {
        "name": "ipython",
        "version": 3
      },
      "file_extension": ".py",
      "mimetype": "text/x-python",
      "name": "python",
      "nbconvert_exporter": "python",
      "pygments_lexer": "ipython3",
      "version": "3.6.8"
    }
  },
  "cells": [
    {
      "cell_type": "code",
      "metadata": {
        "colab_type": "code",
        "id": "SKMjSbaACzn8",
        "outputId": "e6e41513-2889-44f8-e49a-0d1096601937",
        "colab": {
          "base_uri": "https://localhost:8080/",
          "height": 147
        }
      },
      "source": [
        "from google.colab import drive\n",
        "drive.mount('/content/drive/')\n",
        "!ls\n",
        "\n",
        "# change working directory\n",
        "import os\n",
        "# %cd ../\n",
        "os.chdir(\"drive/My Drive/Covid-19\")"
      ],
      "execution_count": 1,
      "outputs": [
        {
          "output_type": "stream",
          "text": [
            "Go to this URL in a browser: https://accounts.google.com/o/oauth2/auth?client_id=947318989803-6bn6qk8qdgf4n4g3pfee6491hc0brc4i.apps.googleusercontent.com&redirect_uri=urn%3aietf%3awg%3aoauth%3a2.0%3aoob&response_type=code&scope=email%20https%3a%2f%2fwww.googleapis.com%2fauth%2fdocs.test%20https%3a%2f%2fwww.googleapis.com%2fauth%2fdrive%20https%3a%2f%2fwww.googleapis.com%2fauth%2fdrive.photos.readonly%20https%3a%2f%2fwww.googleapis.com%2fauth%2fpeopleapi.readonly\n",
            "\n",
            "Enter your authorization code:\n",
            "··········\n",
            "Mounted at /content/drive/\n",
            "drive  sample_data\n"
          ],
          "name": "stdout"
        }
      ]
    },
    {
      "cell_type": "code",
      "metadata": {
        "colab_type": "code",
        "id": "JbAW-bPPDheQ",
        "outputId": "d9bdf056-e537-4e99-a3dd-74dd24993599",
        "colab": {
          "base_uri": "https://localhost:8080/",
          "height": 386
        }
      },
      "source": [
        "%cd tweets\n",
        "!wget -O covid-tweets-jan-mar.csv.gz https://drive.google.com/uc?id=1zLwTxMNOyyQ03ae0zFeS2xpD1hhFRpF9&export=download\n",
        "%cd .."
      ],
      "execution_count": 2,
      "outputs": [
        {
          "output_type": "stream",
          "text": [
            "/content/drive/My Drive/Covid-19/tweets\n",
            "--2020-04-25 04:15:41--  https://drive.google.com/uc?id=1zLwTxMNOyyQ03ae0zFeS2xpD1hhFRpF9\n",
            "Resolving drive.google.com (drive.google.com)... 74.125.23.102, 74.125.23.101, 74.125.23.100, ...\n",
            "Connecting to drive.google.com (drive.google.com)|74.125.23.102|:443... connected.\n",
            "HTTP request sent, awaiting response... 302 Moved Temporarily\n",
            "Location: https://doc-10-ao-docs.googleusercontent.com/docs/securesc/ha0ro937gcuc7l7deffksulhg5h7mbp1/1k57dr6gomvgpqfn7vr58o08uk01keor/1587788100000/09819436844883370984/*/1zLwTxMNOyyQ03ae0zFeS2xpD1hhFRpF9 [following]\n",
            "Warning: wildcards not supported in HTTP.\n",
            "--2020-04-25 04:15:43--  https://doc-10-ao-docs.googleusercontent.com/docs/securesc/ha0ro937gcuc7l7deffksulhg5h7mbp1/1k57dr6gomvgpqfn7vr58o08uk01keor/1587788100000/09819436844883370984/*/1zLwTxMNOyyQ03ae0zFeS2xpD1hhFRpF9\n",
            "Resolving doc-10-ao-docs.googleusercontent.com (doc-10-ao-docs.googleusercontent.com)... 74.125.203.132, 2404:6800:4008:c03::84\n",
            "Connecting to doc-10-ao-docs.googleusercontent.com (doc-10-ao-docs.googleusercontent.com)|74.125.203.132|:443... connected.\n",
            "HTTP request sent, awaiting response... 200 OK\n",
            "Length: unspecified [application/x-gzip]\n",
            "Saving to: ‘covid-tweets-jan-mar.csv.gz’\n",
            "\n",
            "covid-tweets-jan-ma     [  <=>               ]  14.35M  17.0MB/s    in 0.8s    \n",
            "\n",
            "2020-04-25 04:15:44 (17.0 MB/s) - ‘covid-tweets-jan-mar.csv.gz’ saved [15052203]\n",
            "\n",
            "/content/drive/My Drive/Covid-19\n"
          ],
          "name": "stdout"
        }
      ]
    },
    {
      "cell_type": "code",
      "metadata": {
        "colab_type": "code",
        "id": "uWgeQ3dIEfzZ",
        "outputId": "e2f482b0-aeac-484b-e575-9534ae8f5109",
        "colab": {
          "base_uri": "https://localhost:8080/",
          "height": 257
        }
      },
      "source": [
        "!pip install pandarallel\n",
        "\n",
        "# importing libraries\n",
        "from bs4 import BeautifulSoup\n",
        "import urllib.request\n",
        "import re\n",
        "import pandas as pd\n",
        "from tqdm import tqdm\n",
        "import datetime\n",
        "from pandarallel import pandarallel\n",
        "from get_tweets_by_id import getTweetTextAndLocation\n",
        "pandarallel.initialize()\n"
      ],
      "execution_count": 3,
      "outputs": [
        {
          "output_type": "stream",
          "text": [
            "Collecting pandarallel\n",
            "  Downloading https://files.pythonhosted.org/packages/99/06/bd582106766c483d6da51c05b0cdd7cb61894bb843c7ecc4789032232327/pandarallel-1.4.8.tar.gz\n",
            "Requirement already satisfied: dill in /usr/local/lib/python3.6/dist-packages (from pandarallel) (0.3.1.1)\n",
            "Building wheels for collected packages: pandarallel\n",
            "  Building wheel for pandarallel (setup.py) ... \u001b[?25l\u001b[?25hdone\n",
            "  Created wheel for pandarallel: filename=pandarallel-1.4.8-cp36-none-any.whl size=16112 sha256=79a7d449e6714545916ec2c839a4d6623e56fe1e3172545fa2020d888fec6ca5\n",
            "  Stored in directory: /root/.cache/pip/wheels/75/a2/85/b45be2e86d86e9ec5da6d05c4b994d18c81abe76e3f39415aa\n",
            "Successfully built pandarallel\n",
            "Installing collected packages: pandarallel\n",
            "Successfully installed pandarallel-1.4.8\n",
            "INFO: Pandarallel will run on 2 workers.\n",
            "INFO: Pandarallel will use Memory file system to transfer data between the main process and workers.\n"
          ],
          "name": "stdout"
        }
      ]
    },
    {
      "cell_type": "code",
      "metadata": {
        "colab_type": "code",
        "id": "ZWAEujxBEZ84",
        "colab": {}
      },
      "source": [
        "\n",
        "filepath = 'tweets/covid-tweets-jan-mar.csv.gz'\n",
        "\n",
        "dateparse = lambda x: pd.datetime.strptime(x, '%Y-%m-%d')\n",
        "\n",
        "str_date = '2020-03-13' # change in 270873\n",
        "date = datetime.datetime.strptime(str_date, '%Y-%m-%d')\n",
        "\n",
        "df = pd.read_csv(filepath, compression='gzip', parse_dates=['date'], date_parser=dateparse)\n",
        "df = df[df['date'] == date]\n",
        "df.to_csv('temp.csv', index=False)\n",
        "\n",
        "df_reader = pd.read_csv('temp.csv', chunksize=10000, parse_dates=['date'], date_parser=dateparse)\n",
        "\n",
        "savepath = 'covid-tweets-' + str_date + '.csv.gz'\n",
        "for i, chunk in tqdm(enumerate(df_reader)):\n",
        "  \n",
        "    chunk['extractions'] = chunk.parallel_apply(getTweetTextAndLocation, axis=1)\n",
        "    \n",
        "    # Organise columns\n",
        "    chunk  = chunk.merge(chunk.extractions.apply(\n",
        "        lambda item: pd.Series([item[0], item[1], item[2], item[3], int(item[4]), int(item[5]), int(item[6])],\n",
        "                                index=['text', 'lang', 'location_id', 'location', 'replies', 'retweets', 'likes'])), left_index=True, right_index=True)\n",
        "    chunk.drop(['extractions'], axis=1, inplace=True)\n",
        "    chunk = chunk[chunk['text'] != '']\n",
        "\n",
        "    if i == 0:\n",
        "      chunk.to_csv(savepath, index=False, compression='gzip', mode='w')\n",
        "    else:\n",
        "      chunk.to_csv(savepath, index=False, compression='gzip', mode='a', header=False)\n",
        "\n",
        "\n"
      ],
      "execution_count": 0,
      "outputs": []
    }
  ]
}